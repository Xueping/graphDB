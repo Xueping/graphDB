{
 "cells": [
  {
   "cell_type": "code",
   "execution_count": 112,
   "metadata": {
    "collapsed": true
   },
   "outputs": [],
   "source": [
    "from py2neo import Graph, Node, Relationship\n",
    "import numpy as np\n",
    "import pandas as pd"
   ]
  },
  {
   "cell_type": "code",
   "execution_count": 141,
   "metadata": {
    "collapsed": true
   },
   "outputs": [],
   "source": [
    "grapp = Graph()"
   ]
  },
  {
   "cell_type": "code",
   "execution_count": null,
   "metadata": {
    "collapsed": true
   },
   "outputs": [],
   "source": [
    "# query = '''\n",
    "#     LOAD CSV WITH HEADERS FROM '../doh/mimic3/data/ADMISSIONS.csv' AS line\n",
    "#     WITH line\n",
    "#     WHERE line.House IS NOT NULL\n",
    "#     MERGE (person:Person{Name:line.Name})\n",
    "#     MERGE (house:House{Name:line.House})\n",
    "#     MERGE (person) -[:belongs_to]-> (house)\n",
    "# '''\n",
    "\n",
    "# ”’\n",
    "# graph.run(query)"
   ]
  },
  {
   "cell_type": "code",
   "execution_count": 114,
   "metadata": {},
   "outputs": [],
   "source": [
    "patients = pd.read_csv('../doh/mimic3/data/PATIENTS.csv')\n",
    "admissions = pd.read_csv('../doh/mimic3/data/ADMISSIONS.csv')"
   ]
  },
  {
   "cell_type": "code",
   "execution_count": 115,
   "metadata": {},
   "outputs": [],
   "source": [
    "unique_pats = admissions.SUBJECT_ID.unique()\n",
    "profs = pd.merge(admissions,patients,how='left',on='SUBJECT_ID').\\\n",
    "            drop(['ROW_ID_y','ROW_ID_x','DOB','DOD','DOD_HOSP','DOD_SSN','EXPIRE_FLAG'], axis=1)"
   ]
  },
  {
   "cell_type": "code",
   "execution_count": 142,
   "metadata": {},
   "outputs": [
    {
     "data": {
      "text/plain": [
       "((58976, 19), (58976, 19), (46520,))"
      ]
     },
     "execution_count": 142,
     "metadata": {},
     "output_type": "execute_result"
    }
   ],
   "source": [
    "profs.shape,  admissions.shape,unique_pats.shape"
   ]
  },
  {
   "cell_type": "code",
   "execution_count": 117,
   "metadata": {},
   "outputs": [],
   "source": [
    "grouped = profs.groupby(['SUBJECT_ID'])"
   ]
  },
  {
   "cell_type": "code",
   "execution_count": 144,
   "metadata": {},
   "outputs": [],
   "source": [
    "tx = graph.begin()\n",
    "# for sub_id in unique_pats[0:1000]:\n",
    "for sub_id in unique_pats:\n",
    "    pat_acts = grouped.get_group(sub_id).sort_values(by=['ADMITTIME'])\n",
    "    last_act = pat_acts.tail(1)\n",
    "    p = Node(\"Patient\", pid=last_act.SUBJECT_ID.values[0],insurance=last_act.INSURANCE.values[0],\\\n",
    "             religion=last_act.RELIGION.values[0],marital=last_act.MARITAL_STATUS.values[0],\n",
    "             ethnicity=last_act.ETHNICITY.values[0],gender=last_act.GENDER.values[0])\n",
    "    tx.create(p)\n",
    "    \n",
    "    for index, row in pat_acts.iterrows():\n",
    "        act = Node(\"Activity\", hadm=row['HADM_ID'],admit_time=row['ADMITTIME'], disch_time=row['DISCHTIME'],\\\n",
    "        admit_type=row['ADMISSION_TYPE'],admit_loc=row['ADMISSION_LOCATION'],disch_loc=row['DISCHARGE_LOCATION'],\n",
    "                  diag=row['DIAGNOSIS'])\n",
    "        tx.create(act)\n",
    "        hsp = Relationship(p, \"Hospital\", act)\n",
    "        tx.create(hsp)\n",
    "        p = act\n",
    "tx.commit()   \n"
   ]
  },
  {
   "cell_type": "code",
   "execution_count": 140,
   "metadata": {},
   "outputs": [
    {
     "data": {
      "text/plain": [
       "[{u'act.admit_type': u'EMERGENCY',\n",
       "  u'act1.admit_type': u'ELECTIVE',\n",
       "  u'n': (a44e596:Patient {ethnicity:\"WHITE\",gender:\"M\",insurance:\"Medicare\",marital:\"MARRIED\",pid:23,religion:\"CATHOLIC\"})},\n",
       " {u'act.admit_type': u'EMERGENCY',\n",
       "  u'act1.admit_type': u'EMERGENCY',\n",
       "  u'n': (d39da98:Patient {ethnicity:\"WHITE\",gender:\"M\",insurance:\"Medicare\",marital:\"MARRIED\",pid:34,religion:\"CATHOLIC\"})},\n",
       " {u'act.admit_type': u'EMERGENCY',\n",
       "  u'act1.admit_type': u'EMERGENCY',\n",
       "  u'n': (e2e6b89:Patient {ethnicity:\"WHITE\",gender:\"M\",insurance:\"Medicare\",marital:\"MARRIED\",pid:36,religion:\"NOT SPECIFIED\"})},\n",
       " {u'act.admit_type': u'EMERGENCY',\n",
       "  u'act1.admit_type': u'EMERGENCY',\n",
       "  u'n': (f6bbaec:Patient {ethnicity:\"WHITE\",gender:\"M\",insurance:\"Private\",marital:\"MARRIED\",pid:357,religion:\"NOT SPECIFIED\"})},\n",
       " {u'act.admit_type': u'EMERGENCY',\n",
       "  u'act1.admit_type': u'EMERGENCY',\n",
       "  u'n': (c6458c2:Patient {ethnicity:\"MULTI RACE ETHNICITY\",gender:\"M\",insurance:\"Medicare\",marital:\"MARRIED\",pid:361,religion:\"CATHOLIC\"})},\n",
       " {u'act.admit_type': u'EMERGENCY',\n",
       "  u'act1.admit_type': u'EMERGENCY',\n",
       "  u'n': (b148c60:Patient {ethnicity:\"WHITE\",gender:\"F\",insurance:\"Medicare\",marital:\"WIDOWED\",pid:362,religion:\"UNOBTAINABLE\"})},\n",
       " {u'act.admit_type': u'EMERGENCY',\n",
       "  u'act1.admit_type': u'EMERGENCY',\n",
       "  u'n': (eb8eee5:Patient {ethnicity:\"WHITE\",gender:\"M\",insurance:\"Medicare\",marital:\"WIDOWED\",pid:368,religion:\"NOT SPECIFIED\"})},\n",
       " {u'act.admit_type': u'EMERGENCY',\n",
       "  u'act1.admit_type': u'ELECTIVE',\n",
       "  u'n': (f1a506f:Patient {ethnicity:\"WHITE\",gender:\"M\",insurance:\"Private\",marital:\"MARRIED\",pid:61,religion:\"CATHOLIC\"})},\n",
       " {u'act.admit_type': u'EMERGENCY',\n",
       "  u'act1.admit_type': u'URGENT',\n",
       "  u'n': (dbaca57:Patient {ethnicity:\"WHITE\",gender:\"M\",insurance:\"Medicare\",marital:\"SINGLE\",pid:67,religion:\"JEWISH\"})},\n",
       " {u'act.admit_type': u'EMERGENCY',\n",
       "  u'act1.admit_type': u'EMERGENCY',\n",
       "  u'n': (c8bcd0e:Patient {ethnicity:\"BLACK/AFRICAN AMERICAN\",gender:\"F\",insurance:\"Medicare\",marital:\"SINGLE\",pid:68,religion:\"PROTESTANT QUAKER\"})},\n",
       " {u'act.admit_type': u'EMERGENCY',\n",
       "  u'act1.admit_type': u'ELECTIVE',\n",
       "  u'n': (e49d497:Patient {ethnicity:\"WHITE\",gender:\"F\",insurance:\"Private\",marital:\"MARRIED\",pid:84,religion:\"OTHER\"})},\n",
       " {u'act.admit_type': u'EMERGENCY',\n",
       "  u'act1.admit_type': u'EMERGENCY',\n",
       "  u'n': (b7aa756:Patient {ethnicity:\"WHITE\",gender:\"M\",insurance:\"Medicare\",marital:\"MARRIED\",pid:85,religion:\"CATHOLIC\"})},\n",
       " {u'act.admit_type': u'EMERGENCY',\n",
       "  u'act1.admit_type': u'EMERGENCY',\n",
       "  u'n': (e3b74ff:Patient {ethnicity:\"ASIAN\",gender:\"M\",insurance:\"Medicare\",marital:\"MARRIED\",pid:94,religion:\"NOT SPECIFIED\"})},\n",
       " {u'act.admit_type': u'EMERGENCY',\n",
       "  u'act1.admit_type': u'EMERGENCY',\n",
       "  u'n': (ad450fd:Patient {ethnicity:\"UNKNOWN/NOT SPECIFIED\",gender:\"F\",insurance:\"Private\",marital:\"MARRIED\",pid:103,religion:\"CATHOLIC\"})},\n",
       " {u'act.admit_type': u'EMERGENCY',\n",
       "  u'act1.admit_type': u'EMERGENCY',\n",
       "  u'n': (bb28a8d:Patient {ethnicity:\"BLACK/AFRICAN AMERICAN\",gender:\"F\",insurance:\"Medicare\",marital:\"SINGLE\",pid:105,religion:\"PROTESTANT QUAKER\"})},\n",
       " {u'act.admit_type': u'EMERGENCY',\n",
       "  u'act1.admit_type': u'EMERGENCY',\n",
       "  u'n': (ac83478:Patient {ethnicity:\"HISPANIC OR LATINO\",gender:\"M\",insurance:\"Medicare\",marital:\"SEPARATED\",pid:107,religion:\"CATHOLIC\"})},\n",
       " {u'act.admit_type': u'EMERGENCY',\n",
       "  u'act1.admit_type': u'EMERGENCY',\n",
       "  u'n': (c613e10:Patient {ethnicity:\"BLACK/AFRICAN AMERICAN\",gender:\"F\",insurance:\"Medicaid\",marital:\"SINGLE\",pid:109,religion:\"NOT SPECIFIED\"})},\n",
       " {u'act.admit_type': u'EMERGENCY',\n",
       "  u'act1.admit_type': u'EMERGENCY',\n",
       "  u'n': (c5786e6:Patient {ethnicity:\"WHITE\",gender:\"M\",insurance:\"Medicare\",marital:\"MARRIED\",pid:124,religion:\"CATHOLIC\"})},\n",
       " {u'act.admit_type': u'EMERGENCY',\n",
       "  u'act1.admit_type': u'EMERGENCY',\n",
       "  u'n': (dbc661c:Patient {ethnicity:\"WHITE\",gender:\"M\",insurance:\"Private\",marital:\"SINGLE\",pid:130,religion:\"CATHOLIC\"})},\n",
       " {u'act.admit_type': u'ELECTIVE',\n",
       "  u'act1.admit_type': u'EMERGENCY',\n",
       "  u'n': (e348da8:Patient {ethnicity:\"WHITE\",gender:\"M\",insurance:\"Private\",marital:\"DIVORCED\",pid:135,religion:\"PROTESTANT QUAKER\"})},\n",
       " {u'act.admit_type': u'EMERGENCY',\n",
       "  u'act1.admit_type': u'ELECTIVE',\n",
       "  u'n': (eacb65c:Patient {ethnicity:\"WHITE\",gender:\"M\",insurance:\"Private\",marital:\"MARRIED\",pid:138,religion:\"CATHOLIC\"})},\n",
       " {u'act.admit_type': u'EMERGENCY',\n",
       "  u'act1.admit_type': u'EMERGENCY',\n",
       "  u'n': (a539073:Patient {ethnicity:\"WHITE\",gender:\"F\",insurance:\"Medicaid\",marital:\"SINGLE\",pid:145,religion:\"CATHOLIC\"})},\n",
       " {u'act.admit_type': u'URGENT',\n",
       "  u'act1.admit_type': u'EMERGENCY',\n",
       "  u'n': (da5d2ae:Patient {ethnicity:\"WHITE\",gender:\"M\",insurance:\"Medicare\",marital:\"SEPARATED\",pid:154,religion:\"EPISCOPALIAN\"})},\n",
       " {u'act.admit_type': u'ELECTIVE',\n",
       "  u'act1.admit_type': u'EMERGENCY',\n",
       "  u'n': (a054185:Patient {ethnicity:\"WHITE\",gender:\"M\",insurance:\"Private\",marital:\"MARRIED\",pid:156,religion:\"EPISCOPALIAN\"})},\n",
       " {u'act.admit_type': u'EMERGENCY',\n",
       "  u'act1.admit_type': u'EMERGENCY',\n",
       "  u'n': (d2e6b40:Patient {ethnicity:\"WHITE\",gender:\"F\",insurance:\"Medicare\",marital:\"MARRIED\",pid:111,religion:\"PROTESTANT QUAKER\"})}]"
      ]
     },
     "execution_count": 140,
     "metadata": {},
     "output_type": "execute_result"
    }
   ],
   "source": [
    "graph.data(\"MATCH (n:Patient)-[:Hospital]->(act1)-[:Hospital]->(act) RETURN n,act1.admit_type,act.admit_type LIMIT 25\")"
   ]
  },
  {
   "cell_type": "code",
   "execution_count": 178,
   "metadata": {},
   "outputs": [
    {
     "name": "stdout",
     "output_type": "stream",
     "text": [
      "Object\n"
     ]
    }
   ],
   "source": [
    "\n",
    "# for s in patients.dtypes:\n",
    "#     print(s.type) \n",
    "#     print(s.type== np.object_) \n",
    "if any(s.type== np.object_ for s in patients.dtypes):\n",
    "     print(\"Object\") "
   ]
  },
  {
   "cell_type": "code",
   "execution_count": 181,
   "metadata": {},
   "outputs": [
    {
     "data": {
      "text/plain": [
       "[234, 249, 0]"
      ]
     },
     "execution_count": 181,
     "metadata": {},
     "output_type": "execute_result"
    }
   ],
   "source": [
    " patients.select_dtypes(exclude=['object']).iloc[0].tolist()"
   ]
  }
 ],
 "metadata": {
  "kernelspec": {
   "display_name": "Python 3",
   "language": "python",
   "name": "python3"
  },
  "language_info": {
   "codemirror_mode": {
    "name": "ipython",
    "version": 3
   },
   "file_extension": ".py",
   "mimetype": "text/x-python",
   "name": "python",
   "nbconvert_exporter": "python",
   "pygments_lexer": "ipython3",
   "version": "3.6.1"
  }
 },
 "nbformat": 4,
 "nbformat_minor": 2
}
