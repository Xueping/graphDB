{
 "cells": [
  {
   "cell_type": "markdown",
   "metadata": {},
   "source": [
    "Load dependency Python Packages"
   ]
  },
  {
   "cell_type": "code",
   "execution_count": 1,
   "metadata": {
    "scrolled": true
   },
   "outputs": [],
   "source": [
    "from py2neo import Graph, Node, Relationship,authenticate\n",
    "import numpy as np\n",
    "import pandas as pd\n",
    "from datetime import datetime\n",
    "# from py2neo.server import GraphServer"
   ]
  },
  {
   "cell_type": "markdown",
   "metadata": {},
   "source": [
    "Configuration of Graph Database"
   ]
  },
  {
   "cell_type": "code",
   "execution_count": 3,
   "metadata": {
    "scrolled": false
   },
   "outputs": [],
   "source": [
    "# set up authentication parameters\n",
    "authenticate(\"localhost:7474\", \"neo4j\", \"admin\")\n",
    "\n",
    "# connect to authenticated graph database\n",
    "graph = Graph(\"http://localhost:7474/db/data/\")\n",
    "# grapp = Gp_dfraph()"
   ]
  },
  {
   "cell_type": "markdown",
   "metadata": {},
   "source": [
    "Load Patient and Admission Dataset."
   ]
  },
  {
   "cell_type": "code",
   "execution_count": 4,
   "metadata": {
    "scrolled": true
   },
   "outputs": [],
   "source": [
    "patients = pd.read_csv('../doh/mimic3/data/PATIENTS.csv')\n",
    "admissions = pd.read_csv('../doh/mimic3/data/ADMISSIONS.csv')"
   ]
  },
  {
   "cell_type": "markdown",
   "metadata": {},
   "source": [
    "Get Unique Patients and Generate patient profiles."
   ]
  },
  {
   "cell_type": "code",
   "execution_count": 5,
   "metadata": {
    "scrolled": true
   },
   "outputs": [],
   "source": [
    "unique_pats = admissions.SUBJECT_ID.unique()\n",
    "profs = pd.merge(admissions,patients,how='left',on='SUBJECT_ID').\\\n",
    "            drop(['ROW_ID_y','ROW_ID_x','DOB','DOD','DOD_HOSP','DOD_SSN','EXPIRE_FLAG'], axis=1)"
   ]
  },
  {
   "cell_type": "code",
   "execution_count": 5,
   "metadata": {
    "scrolled": true
   },
   "outputs": [
    {
     "data": {
      "text/plain": [
       "((58976, 19), (58976, 19), (46520,))"
      ]
     },
     "execution_count": 5,
     "metadata": {},
     "output_type": "execute_result"
    }
   ],
   "source": [
    "profs.shape,  admissions.shape,unique_pats.shape"
   ]
  },
  {
   "cell_type": "code",
   "execution_count": 6,
   "metadata": {},
   "outputs": [
    {
     "data": {
      "text/html": [
       "<div>\n",
       "<style scoped>\n",
       "    .dataframe tbody tr th:only-of-type {\n",
       "        vertical-align: middle;\n",
       "    }\n",
       "\n",
       "    .dataframe tbody tr th {\n",
       "        vertical-align: top;\n",
       "    }\n",
       "\n",
       "    .dataframe thead th {\n",
       "        text-align: right;\n",
       "    }\n",
       "</style>\n",
       "<table border=\"1\" class=\"dataframe\">\n",
       "  <thead>\n",
       "    <tr style=\"text-align: right;\">\n",
       "      <th></th>\n",
       "      <th>SUBJECT_ID</th>\n",
       "      <th>HADM_ID</th>\n",
       "      <th>ADMITTIME</th>\n",
       "      <th>DISCHTIME</th>\n",
       "      <th>DEATHTIME</th>\n",
       "      <th>ADMISSION_TYPE</th>\n",
       "      <th>ADMISSION_LOCATION</th>\n",
       "      <th>DISCHARGE_LOCATION</th>\n",
       "      <th>INSURANCE</th>\n",
       "      <th>LANGUAGE</th>\n",
       "      <th>RELIGION</th>\n",
       "      <th>MARITAL_STATUS</th>\n",
       "      <th>ETHNICITY</th>\n",
       "      <th>EDREGTIME</th>\n",
       "      <th>EDOUTTIME</th>\n",
       "      <th>DIAGNOSIS</th>\n",
       "      <th>HOSPITAL_EXPIRE_FLAG</th>\n",
       "      <th>HAS_CHARTEVENTS_DATA</th>\n",
       "      <th>GENDER</th>\n",
       "    </tr>\n",
       "  </thead>\n",
       "  <tbody>\n",
       "    <tr>\n",
       "      <th>0</th>\n",
       "      <td>22</td>\n",
       "      <td>165315</td>\n",
       "      <td>2196-04-09 12:26:00</td>\n",
       "      <td>2196-04-10 15:54:00</td>\n",
       "      <td>NaN</td>\n",
       "      <td>EMERGENCY</td>\n",
       "      <td>EMERGENCY ROOM ADMIT</td>\n",
       "      <td>DISC-TRAN CANCER/CHLDRN H</td>\n",
       "      <td>Private</td>\n",
       "      <td>NaN</td>\n",
       "      <td>UNOBTAINABLE</td>\n",
       "      <td>MARRIED</td>\n",
       "      <td>WHITE</td>\n",
       "      <td>2196-04-09 10:06:00</td>\n",
       "      <td>2196-04-09 13:24:00</td>\n",
       "      <td>BENZODIAZEPINE OVERDOSE</td>\n",
       "      <td>0</td>\n",
       "      <td>1</td>\n",
       "      <td>F</td>\n",
       "    </tr>\n",
       "    <tr>\n",
       "      <th>1</th>\n",
       "      <td>23</td>\n",
       "      <td>152223</td>\n",
       "      <td>2153-09-03 07:15:00</td>\n",
       "      <td>2153-09-08 19:10:00</td>\n",
       "      <td>NaN</td>\n",
       "      <td>ELECTIVE</td>\n",
       "      <td>PHYS REFERRAL/NORMAL DELI</td>\n",
       "      <td>HOME HEALTH CARE</td>\n",
       "      <td>Medicare</td>\n",
       "      <td>NaN</td>\n",
       "      <td>CATHOLIC</td>\n",
       "      <td>MARRIED</td>\n",
       "      <td>WHITE</td>\n",
       "      <td>NaN</td>\n",
       "      <td>NaN</td>\n",
       "      <td>CORONARY ARTERY DISEASE\\CORONARY ARTERY BYPASS...</td>\n",
       "      <td>0</td>\n",
       "      <td>1</td>\n",
       "      <td>M</td>\n",
       "    </tr>\n",
       "    <tr>\n",
       "      <th>2</th>\n",
       "      <td>23</td>\n",
       "      <td>124321</td>\n",
       "      <td>2157-10-18 19:34:00</td>\n",
       "      <td>2157-10-25 14:00:00</td>\n",
       "      <td>NaN</td>\n",
       "      <td>EMERGENCY</td>\n",
       "      <td>TRANSFER FROM HOSP/EXTRAM</td>\n",
       "      <td>HOME HEALTH CARE</td>\n",
       "      <td>Medicare</td>\n",
       "      <td>ENGL</td>\n",
       "      <td>CATHOLIC</td>\n",
       "      <td>MARRIED</td>\n",
       "      <td>WHITE</td>\n",
       "      <td>NaN</td>\n",
       "      <td>NaN</td>\n",
       "      <td>BRAIN MASS</td>\n",
       "      <td>0</td>\n",
       "      <td>1</td>\n",
       "      <td>M</td>\n",
       "    </tr>\n",
       "    <tr>\n",
       "      <th>3</th>\n",
       "      <td>24</td>\n",
       "      <td>161859</td>\n",
       "      <td>2139-06-06 16:14:00</td>\n",
       "      <td>2139-06-09 12:48:00</td>\n",
       "      <td>NaN</td>\n",
       "      <td>EMERGENCY</td>\n",
       "      <td>TRANSFER FROM HOSP/EXTRAM</td>\n",
       "      <td>HOME</td>\n",
       "      <td>Private</td>\n",
       "      <td>NaN</td>\n",
       "      <td>PROTESTANT QUAKER</td>\n",
       "      <td>SINGLE</td>\n",
       "      <td>WHITE</td>\n",
       "      <td>NaN</td>\n",
       "      <td>NaN</td>\n",
       "      <td>INTERIOR MYOCARDIAL INFARCTION</td>\n",
       "      <td>0</td>\n",
       "      <td>1</td>\n",
       "      <td>M</td>\n",
       "    </tr>\n",
       "    <tr>\n",
       "      <th>4</th>\n",
       "      <td>25</td>\n",
       "      <td>129635</td>\n",
       "      <td>2160-11-02 02:06:00</td>\n",
       "      <td>2160-11-05 14:55:00</td>\n",
       "      <td>NaN</td>\n",
       "      <td>EMERGENCY</td>\n",
       "      <td>EMERGENCY ROOM ADMIT</td>\n",
       "      <td>HOME</td>\n",
       "      <td>Private</td>\n",
       "      <td>NaN</td>\n",
       "      <td>UNOBTAINABLE</td>\n",
       "      <td>MARRIED</td>\n",
       "      <td>WHITE</td>\n",
       "      <td>2160-11-02 01:01:00</td>\n",
       "      <td>2160-11-02 04:27:00</td>\n",
       "      <td>ACUTE CORONARY SYNDROME</td>\n",
       "      <td>0</td>\n",
       "      <td>1</td>\n",
       "      <td>M</td>\n",
       "    </tr>\n",
       "  </tbody>\n",
       "</table>\n",
       "</div>"
      ],
      "text/plain": [
       "   SUBJECT_ID  HADM_ID            ADMITTIME            DISCHTIME DEATHTIME  \\\n",
       "0          22   165315  2196-04-09 12:26:00  2196-04-10 15:54:00       NaN   \n",
       "1          23   152223  2153-09-03 07:15:00  2153-09-08 19:10:00       NaN   \n",
       "2          23   124321  2157-10-18 19:34:00  2157-10-25 14:00:00       NaN   \n",
       "3          24   161859  2139-06-06 16:14:00  2139-06-09 12:48:00       NaN   \n",
       "4          25   129635  2160-11-02 02:06:00  2160-11-05 14:55:00       NaN   \n",
       "\n",
       "  ADMISSION_TYPE         ADMISSION_LOCATION         DISCHARGE_LOCATION  \\\n",
       "0      EMERGENCY       EMERGENCY ROOM ADMIT  DISC-TRAN CANCER/CHLDRN H   \n",
       "1       ELECTIVE  PHYS REFERRAL/NORMAL DELI           HOME HEALTH CARE   \n",
       "2      EMERGENCY  TRANSFER FROM HOSP/EXTRAM           HOME HEALTH CARE   \n",
       "3      EMERGENCY  TRANSFER FROM HOSP/EXTRAM                       HOME   \n",
       "4      EMERGENCY       EMERGENCY ROOM ADMIT                       HOME   \n",
       "\n",
       "  INSURANCE LANGUAGE           RELIGION MARITAL_STATUS ETHNICITY  \\\n",
       "0   Private      NaN       UNOBTAINABLE        MARRIED     WHITE   \n",
       "1  Medicare      NaN           CATHOLIC        MARRIED     WHITE   \n",
       "2  Medicare     ENGL           CATHOLIC        MARRIED     WHITE   \n",
       "3   Private      NaN  PROTESTANT QUAKER         SINGLE     WHITE   \n",
       "4   Private      NaN       UNOBTAINABLE        MARRIED     WHITE   \n",
       "\n",
       "             EDREGTIME            EDOUTTIME  \\\n",
       "0  2196-04-09 10:06:00  2196-04-09 13:24:00   \n",
       "1                  NaN                  NaN   \n",
       "2                  NaN                  NaN   \n",
       "3                  NaN                  NaN   \n",
       "4  2160-11-02 01:01:00  2160-11-02 04:27:00   \n",
       "\n",
       "                                           DIAGNOSIS  HOSPITAL_EXPIRE_FLAG  \\\n",
       "0                            BENZODIAZEPINE OVERDOSE                     0   \n",
       "1  CORONARY ARTERY DISEASE\\CORONARY ARTERY BYPASS...                     0   \n",
       "2                                         BRAIN MASS                     0   \n",
       "3                     INTERIOR MYOCARDIAL INFARCTION                     0   \n",
       "4                            ACUTE CORONARY SYNDROME                     0   \n",
       "\n",
       "   HAS_CHARTEVENTS_DATA GENDER  \n",
       "0                     1      F  \n",
       "1                     1      M  \n",
       "2                     1      M  \n",
       "3                     1      M  \n",
       "4                     1      M  "
      ]
     },
     "execution_count": 6,
     "metadata": {},
     "output_type": "execute_result"
    }
   ],
   "source": [
    "profs.head()"
   ]
  },
  {
   "cell_type": "markdown",
   "metadata": {},
   "source": [
    "Group patients' activities accourding to SUBJECT_ID, and Sample 10000 patients to do experiment."
   ]
  },
  {
   "cell_type": "code",
   "execution_count": 7,
   "metadata": {
    "scrolled": true
   },
   "outputs": [],
   "source": [
    "grouped = profs.groupby(['SUBJECT_ID'])\n",
    "samples = unique_pats[range(10000)]"
   ]
  },
  {
   "cell_type": "markdown",
   "metadata": {},
   "source": [
    "Add nodes and relationships to Graph.\n",
    "\n",
    "The first for loop is to get patients' latest information as their demographic data and create \"patient\" nodes to add into graph.\n",
    "\n",
    "The second for loop is to extract patients' sequence of activities, create \"Acitvity\" nodes and \"Hospital\" relationships to add into graph."
   ]
  },
  {
   "cell_type": "code",
   "execution_count": null,
   "metadata": {
    "scrolled": true
   },
   "outputs": [],
   "source": [
    "tx = graph.begin()\n",
    "# for sub_id in unique_pats[0:1000]:\n",
    "for sub_id in samples:\n",
    "    pat_acts = grouped.get_group(sub_id).sort_values(by=['ADMITTIME'])\n",
    "    last_act = pat_acts.tail(1)\n",
    "    p = Node(\"Patient\", \\\n",
    "             pid=str(last_act.SUBJECT_ID.values[0]),\\\n",
    "             insurance=last_act.INSURANCE.values[0],\\\n",
    "             religion=last_act.RELIGION.values[0],\\\n",
    "             marital=last_act.MARITAL_STATUS.values[0],\\\n",
    "             ethnicity=last_act.ETHNICITY.values[0],\\\n",
    "             gender=last_act.GENDER.values[0])\n",
    "    tx.create(p)\n",
    "    \n",
    "    for index, row in pat_acts.iterrows():\n",
    "        act = Node(\"Activity\", \\\n",
    "                   hadm=row['HADM_ID'],\\\n",
    "                   admit_time=row['ADMITTIME'],\\\n",
    "                   disch_time=row['DISCHTIME'],\\\n",
    "                   admit_type=row['ADMISSION_TYPE'],\\\n",
    "                   admit_loc=row['ADMISSION_LOCATION'],\\\n",
    "                   disch_loc=row['DISCHARGE_LOCATION'],\\\n",
    "                   diag=row['DIAGNOSIS'])\n",
    "        tx.create(act)\n",
    "        hsp = Relationship(p, \"Hospital\", act)\n",
    "        tx.create(hsp)\n",
    "        p = act\n",
    "tx.commit()   \n"
   ]
  },
  {
   "cell_type": "code",
   "execution_count": 8,
   "metadata": {
    "scrolled": true
   },
   "outputs": [],
   "source": [
    "#Create a new pandas dataframe only including patient ID\n",
    "df = pd.DataFrame(samples,columns=['pid'])"
   ]
  },
  {
   "cell_type": "markdown",
   "metadata": {},
   "source": [
    "Only extract activies in patient journey. And add returnd data from each graph path into dataframe DF."
   ]
  },
  {
   "cell_type": "code",
   "execution_count": 9,
   "metadata": {
    "scrolled": true
   },
   "outputs": [],
   "source": [
    "#list of admission types\n",
    "adm_type = ['EMERGENCY','ELECTIVE','NEWBORN','URGENT']\n",
    "path_range = range(1,5) #path range from 1 to 4\n",
    "for l in path_range: \n",
    "    for adm in adm_type:\n",
    "        p = \"MATCH (n:Patient)-[:Hospital*\"+str(l)+\"]->(act) WHERE act.admit_type='\"\\\n",
    "                + adm +\"' RETURN n.pid as pid, 1 as path_\"+str(l)+\"_\"+adm\n",
    "        \n",
    "        graphData = graph.data(p)\n",
    "        if(len(graphData)>0):\n",
    "            p_df = pd.DataFrame(graphData)\n",
    "            p_df.pid = p_df.pid.astype(int)\n",
    "            df = pd.merge(df,p_df,on='pid',how='left')\n",
    "df = df.fillna(0)"
   ]
  },
  {
   "cell_type": "code",
   "execution_count": 10,
   "metadata": {
    "scrolled": false
   },
   "outputs": [
    {
     "data": {
      "text/html": [
       "<div>\n",
       "<style scoped>\n",
       "    .dataframe tbody tr th:only-of-type {\n",
       "        vertical-align: middle;\n",
       "    }\n",
       "\n",
       "    .dataframe tbody tr th {\n",
       "        vertical-align: top;\n",
       "    }\n",
       "\n",
       "    .dataframe thead th {\n",
       "        text-align: right;\n",
       "    }\n",
       "</style>\n",
       "<table border=\"1\" class=\"dataframe\">\n",
       "  <thead>\n",
       "    <tr style=\"text-align: right;\">\n",
       "      <th></th>\n",
       "      <th>pid</th>\n",
       "      <th>path_1_EMERGENCY</th>\n",
       "      <th>path_1_ELECTIVE</th>\n",
       "      <th>path_1_NEWBORN</th>\n",
       "      <th>path_1_URGENT</th>\n",
       "      <th>path_2_EMERGENCY</th>\n",
       "      <th>path_2_ELECTIVE</th>\n",
       "      <th>path_2_NEWBORN</th>\n",
       "      <th>path_2_URGENT</th>\n",
       "      <th>path_3_EMERGENCY</th>\n",
       "      <th>path_3_ELECTIVE</th>\n",
       "      <th>path_3_NEWBORN</th>\n",
       "      <th>path_3_URGENT</th>\n",
       "      <th>path_4_EMERGENCY</th>\n",
       "      <th>path_4_ELECTIVE</th>\n",
       "      <th>path_4_URGENT</th>\n",
       "    </tr>\n",
       "  </thead>\n",
       "  <tbody>\n",
       "    <tr>\n",
       "      <th>0</th>\n",
       "      <td>22</td>\n",
       "      <td>1.0</td>\n",
       "      <td>0.0</td>\n",
       "      <td>0.0</td>\n",
       "      <td>0.0</td>\n",
       "      <td>0.0</td>\n",
       "      <td>0.0</td>\n",
       "      <td>0.0</td>\n",
       "      <td>0.0</td>\n",
       "      <td>0.0</td>\n",
       "      <td>0.0</td>\n",
       "      <td>0.0</td>\n",
       "      <td>0.0</td>\n",
       "      <td>0.0</td>\n",
       "      <td>0.0</td>\n",
       "      <td>0.0</td>\n",
       "    </tr>\n",
       "    <tr>\n",
       "      <th>1</th>\n",
       "      <td>23</td>\n",
       "      <td>0.0</td>\n",
       "      <td>1.0</td>\n",
       "      <td>0.0</td>\n",
       "      <td>0.0</td>\n",
       "      <td>1.0</td>\n",
       "      <td>0.0</td>\n",
       "      <td>0.0</td>\n",
       "      <td>0.0</td>\n",
       "      <td>0.0</td>\n",
       "      <td>0.0</td>\n",
       "      <td>0.0</td>\n",
       "      <td>0.0</td>\n",
       "      <td>0.0</td>\n",
       "      <td>0.0</td>\n",
       "      <td>0.0</td>\n",
       "    </tr>\n",
       "    <tr>\n",
       "      <th>2</th>\n",
       "      <td>24</td>\n",
       "      <td>1.0</td>\n",
       "      <td>0.0</td>\n",
       "      <td>0.0</td>\n",
       "      <td>0.0</td>\n",
       "      <td>0.0</td>\n",
       "      <td>0.0</td>\n",
       "      <td>0.0</td>\n",
       "      <td>0.0</td>\n",
       "      <td>0.0</td>\n",
       "      <td>0.0</td>\n",
       "      <td>0.0</td>\n",
       "      <td>0.0</td>\n",
       "      <td>0.0</td>\n",
       "      <td>0.0</td>\n",
       "      <td>0.0</td>\n",
       "    </tr>\n",
       "    <tr>\n",
       "      <th>3</th>\n",
       "      <td>25</td>\n",
       "      <td>1.0</td>\n",
       "      <td>0.0</td>\n",
       "      <td>0.0</td>\n",
       "      <td>0.0</td>\n",
       "      <td>0.0</td>\n",
       "      <td>0.0</td>\n",
       "      <td>0.0</td>\n",
       "      <td>0.0</td>\n",
       "      <td>0.0</td>\n",
       "      <td>0.0</td>\n",
       "      <td>0.0</td>\n",
       "      <td>0.0</td>\n",
       "      <td>0.0</td>\n",
       "      <td>0.0</td>\n",
       "      <td>0.0</td>\n",
       "    </tr>\n",
       "    <tr>\n",
       "      <th>4</th>\n",
       "      <td>26</td>\n",
       "      <td>1.0</td>\n",
       "      <td>0.0</td>\n",
       "      <td>0.0</td>\n",
       "      <td>0.0</td>\n",
       "      <td>0.0</td>\n",
       "      <td>0.0</td>\n",
       "      <td>0.0</td>\n",
       "      <td>0.0</td>\n",
       "      <td>0.0</td>\n",
       "      <td>0.0</td>\n",
       "      <td>0.0</td>\n",
       "      <td>0.0</td>\n",
       "      <td>0.0</td>\n",
       "      <td>0.0</td>\n",
       "      <td>0.0</td>\n",
       "    </tr>\n",
       "  </tbody>\n",
       "</table>\n",
       "</div>"
      ],
      "text/plain": [
       "   pid  path_1_EMERGENCY  path_1_ELECTIVE  path_1_NEWBORN  path_1_URGENT  \\\n",
       "0   22               1.0              0.0             0.0            0.0   \n",
       "1   23               0.0              1.0             0.0            0.0   \n",
       "2   24               1.0              0.0             0.0            0.0   \n",
       "3   25               1.0              0.0             0.0            0.0   \n",
       "4   26               1.0              0.0             0.0            0.0   \n",
       "\n",
       "   path_2_EMERGENCY  path_2_ELECTIVE  path_2_NEWBORN  path_2_URGENT  \\\n",
       "0               0.0              0.0             0.0            0.0   \n",
       "1               1.0              0.0             0.0            0.0   \n",
       "2               0.0              0.0             0.0            0.0   \n",
       "3               0.0              0.0             0.0            0.0   \n",
       "4               0.0              0.0             0.0            0.0   \n",
       "\n",
       "   path_3_EMERGENCY  path_3_ELECTIVE  path_3_NEWBORN  path_3_URGENT  \\\n",
       "0               0.0              0.0             0.0            0.0   \n",
       "1               0.0              0.0             0.0            0.0   \n",
       "2               0.0              0.0             0.0            0.0   \n",
       "3               0.0              0.0             0.0            0.0   \n",
       "4               0.0              0.0             0.0            0.0   \n",
       "\n",
       "   path_4_EMERGENCY  path_4_ELECTIVE  path_4_URGENT  \n",
       "0               0.0              0.0            0.0  \n",
       "1               0.0              0.0            0.0  \n",
       "2               0.0              0.0            0.0  \n",
       "3               0.0              0.0            0.0  \n",
       "4               0.0              0.0            0.0  "
      ]
     },
     "execution_count": 10,
     "metadata": {},
     "output_type": "execute_result"
    }
   ],
   "source": [
    "df.head()"
   ]
  },
  {
   "cell_type": "markdown",
   "metadata": {},
   "source": [
    "Only extract days difference between two chronological activies in patient journey. And add returnd data from each graph path into dataframe DF."
   ]
  },
  {
   "cell_type": "code",
   "execution_count": 11,
   "metadata": {
    "scrolled": true
   },
   "outputs": [],
   "source": [
    "#list of admission types\n",
    "adm_type = ['EMERGENCY','ELECTIVE','NEWBORN','URGENT']\n",
    "path_range = range(1,4) #path range from 1 to 4\n",
    "for l in path_range: \n",
    "    for adm in adm_type:\n",
    "        p = \"MATCH (n:Patient)-[:Hospital*\"+str(l)+\"]->(act1)-[:Hospital]->(act2)\"\\\n",
    "           +\"WITH n,act1,act2,split(act1.admit_time, ' ') AS adm_d1,split(act2.admit_time, ' ') AS adm_d2 \"\\\n",
    "           +\"WHERE act2.admit_type='\"+ adm +\"' RETURN n.pid as pid, \"\\\n",
    "           +\"adm_d2[0] as next_date,adm_d1[0] as pre_date\"\n",
    "        g_data = graph.data(p)\n",
    "        if(len(g_data)>0):\n",
    "            time_df = pd.DataFrame(g_data)\n",
    "            time_df['days_diff_'+str(l+1)+'_'+adm] = (pd.to_datetime(time_df.next_date) \n",
    "                                                     - pd.to_datetime(time_df.pre_date)).dt.days\n",
    "            time_df = time_df.drop(columns=[\"pre_date\",'next_date'],axis=1)\n",
    "\n",
    "            time_df.pid = time_df.pid.astype(int)\n",
    "            df = pd.merge(df,time_df,on='pid',how='left')\n",
    "df = df.fillna(0)"
   ]
  },
  {
   "cell_type": "code",
   "execution_count": null,
   "metadata": {
    "scrolled": true
   },
   "outputs": [],
   "source": [
    "df.to_csv('path_daydiff_10000.csv',index=False)"
   ]
  },
  {
   "cell_type": "code",
   "execution_count": 12,
   "metadata": {
    "scrolled": true
   },
   "outputs": [],
   "source": [
    "pid = df.pid\n",
    "final_df = df.drop(columns=['pid'],axis=1)"
   ]
  },
  {
   "cell_type": "markdown",
   "metadata": {},
   "source": [
    "Normalize final dataset."
   ]
  },
  {
   "cell_type": "code",
   "execution_count": 13,
   "metadata": {
    "scrolled": true
   },
   "outputs": [],
   "source": [
    "from sklearn.preprocessing import StandardScaler\n",
    "data_fe = StandardScaler().fit_transform(df)"
   ]
  },
  {
   "cell_type": "code",
   "execution_count": 14,
   "metadata": {
    "scrolled": true
   },
   "outputs": [],
   "source": [
    "norm_df = pd.DataFrame(data_fe)"
   ]
  },
  {
   "cell_type": "markdown",
   "metadata": {},
   "source": [
    "Determine optimal cluster number of k."
   ]
  },
  {
   "cell_type": "code",
   "execution_count": 15,
   "metadata": {
    "scrolled": true
   },
   "outputs": [
    {
     "data": {
      "image/png": "[encoded data removed]",
      "text/plain": [
       "<Figure size 432x288 with 1 Axes>"
      ]
     },
     "metadata": {},
     "output_type": "display_data"
    }
   ],
   "source": [
    "# clustering dataset\n",
    "# determine k using elbow method\n",
    " \n",
    "from sklearn.cluster import KMeans\n",
    "from sklearn import metrics\n",
    "from scipy.spatial.distance import cdist\n",
    "import numpy as np\n",
    "import matplotlib.pyplot as plt\n",
    "\n",
    "%matplotlib inline\n",
    "\n",
    " \n",
    "# create new plot and data\n",
    "plt.plot()\n",
    "colors = ['b', 'g', 'r']\n",
    "markers = ['o', 'v', 's']\n",
    " \n",
    "# k means determine k\n",
    "distortions = []\n",
    "K = range(1,25)\n",
    "for k in K:\n",
    "    kmeanModel = KMeans(n_clusters=k,random_state=42).fit(norm_df)\n",
    "#     kmeanModel.fit(data)\n",
    "    distortions.append(sum(np.min(cdist(norm_df, kmeanModel.cluster_centers_, 'euclidean'), axis=1)) / norm_df.shape[0])\n",
    " \n",
    "# Plot the elbow\n",
    "plt.plot(K, distortions, 'bx-')\n",
    "plt.xlabel('k')\n",
    "plt.ylabel('Distortion')\n",
    "plt.title('The Elbow Method showing the optimal k')\n",
    "plt.show()"
   ]
  },
  {
   "cell_type": "code",
   "execution_count": 16,
   "metadata": {
    "scrolled": true
   },
   "outputs": [],
   "source": [
    "from sklearn.cluster import KMeans\n",
    "n_clusters = 5\n",
    "kmeanModel = KMeans(n_clusters=n_clusters,random_state=42).fit(norm_df)\n",
    "# kmeanModel.fit(data)"
   ]
  },
  {
   "cell_type": "code",
   "execution_count": 17,
   "metadata": {
    "scrolled": true
   },
   "outputs": [],
   "source": [
    "clusters = pd.DataFrame(kmeanModel.labels_,columns=['label'])"
   ]
  },
  {
   "cell_type": "code",
   "execution_count": 18,
   "metadata": {
    "scrolled": true
   },
   "outputs": [
    {
     "name": "stdout",
     "output_type": "stream",
     "text": [
      "label:0 label    5328\n",
      "dtype: int64\n",
      "label:1 label    1\n",
      "dtype: int64\n",
      "label:2 label    1\n",
      "dtype: int64\n",
      "label:3 label    4143\n",
      "dtype: int64\n",
      "label:4 label    527\n",
      "dtype: int64\n"
     ]
    }
   ],
   "source": [
    "for i in range(n_clusters):\n",
    "    print('label:' + str(i),clusters[clusters.label==i].count())"
   ]
  },
  {
   "cell_type": "code",
   "execution_count": null,
   "metadata": {
    "scrolled": true
   },
   "outputs": [],
   "source": [
    "import seaborn as sns\n",
    "for c in range(n_clusters):\n",
    "    plt.figure(c,figsize=(15,35))\n",
    "    plt.suptitle(\"Cluter \"+str(c),fontsize=16)\n",
    "    ds = final_df[final_df.label == c]\n",
    "    ds = ds.drop(columns=['label'],axis=1)\n",
    "    for i, col in enumerate(ds.columns):\n",
    "        plt.subplot(9,3,i+1)\n",
    "        sns.distplot(ds[col],kde=False)"
   ]
  },
  {
   "cell_type": "code",
   "execution_count": 19,
   "metadata": {
    "scrolled": true
   },
   "outputs": [
    {
     "data": {
      "text/html": [
       "<script>requirejs.config({paths: { 'plotly': ['https://cdn.plot.ly/plotly-latest.min']},});if(!window.Plotly) {{require(['plotly'],function(plotly) {window.Plotly=plotly;});}}</script>"
      ],
      "text/vnd.plotly.v1+html": [
       "<script>requirejs.config({paths: { 'plotly': ['https://cdn.plot.ly/plotly-latest.min']},});if(!window.Plotly) {{require(['plotly'],function(plotly) {window.Plotly=plotly;});}}</script>"
      ]
     },
     "metadata": {},
     "output_type": "display_data"
    }
   ],
   "source": [
    "import json, urllib\n",
    "# import plotly.plotly as py\n",
    "from plotly.offline import download_plotlyjs, init_notebook_mode, plot, iplot\n",
    "from plotly.graph_objs import *\n",
    "init_notebook_mode(connected=True)"
   ]
  },
  {
   "cell_type": "code",
   "execution_count": 20,
   "metadata": {
    "scrolled": false
   },
   "outputs": [
    {
     "data": {
      "application/vnd.plotly.v1+json": {
       "data": [
        {
         "domain": {
          "x": [
           0,
           1
          ],
          "y": [
           0,
           1
          ]
         },
         "link": {
          "source": [
           0,
           1,
           1,
           1,
           2,
           2,
           3,
           3,
           4
          ],
          "target": [
           1,
           2,
           3,
           4,
           6,
           7,
           5,
           7,
           7
          ],
          "value": [
           5328,
           679,
           119,
           25,
           1,
           3,
           1,
           1,
           1
          ]
         },
         "node": {
          "label": [
           "#Patients",
           "EMERGENCY",
           "EMERGENCY",
           "ELECTIVE",
           "URGENT",
           "EMERGENCY",
           "ELECTIVE",
           "URGENT"
          ],
          "line": {
           "color": "black",
           "width": 0.5
          },
          "pad": 10,
          "thickness": 30
         },
         "orientation": "h",
         "type": "sankey",
         "valueformat": ".0f"
        }
       ],
       "layout": {
        "font": {
         "size": 10
        },
        "height": 772,
        "title": "Patient Journey",
        "width": 950
       }
      },
      "text/html": [
       "<div id=\"62f7d0f4-cc95-4547-8b59-b4670386ee2f\" style=\"height: 772px; width: 950px;\" class=\"plotly-graph-div\"></div><script type=\"text/javascript\">require([\"plotly\"], function(Plotly) { window.PLOTLYENV=window.PLOTLYENV || {};window.PLOTLYENV.BASE_URL=\"https://plot.ly\";Plotly.newPlot(\"62f7d0f4-cc95-4547-8b59-b4670386ee2f\", [{\"type\": \"sankey\", \"domain\": {\"x\": [0, 1], \"y\": [0, 1]}, \"orientation\": \"h\", \"valueformat\": \".0f\", \"node\": {\"pad\": 10, \"thickness\": 30, \"line\": {\"color\": \"black\", \"width\": 0.5}, \"label\": [\"#Patients\", \"EMERGENCY\", \"EMERGENCY\", \"ELECTIVE\", \"URGENT\", \"EMERGENCY\", \"ELECTIVE\", \"URGENT\"]}, \"link\": {\"source\": [0, 1, 1, 1, 2, 2, 3, 3, 4], \"target\": [1, 2, 3, 4, 6, 7, 5, 7, 7], \"value\": [5328, 679, 119, 25, 1, 3, 1, 1, 1]}}], {\"title\": \"Patient Journey\", \"height\": 772, \"width\": 950, \"font\": {\"size\": 10}}, {\"showLink\": true, \"linkText\": \"Export to plot.ly\"})});</script>"
      ],
      "text/vnd.plotly.v1+html": [
       "<div id=\"62f7d0f4-cc95-4547-8b59-b4670386ee2f\" style=\"height: 772px; width: 950px;\" class=\"plotly-graph-div\"></div><script type=\"text/javascript\">require([\"plotly\"], function(Plotly) { window.PLOTLYENV=window.PLOTLYENV || {};window.PLOTLYENV.BASE_URL=\"https://plot.ly\";Plotly.newPlot(\"62f7d0f4-cc95-4547-8b59-b4670386ee2f\", [{\"type\": \"sankey\", \"domain\": {\"x\": [0, 1], \"y\": [0, 1]}, \"orientation\": \"h\", \"valueformat\": \".0f\", \"node\": {\"pad\": 10, \"thickness\": 30, \"line\": {\"color\": \"black\", \"width\": 0.5}, \"label\": [\"#Patients\", \"EMERGENCY\", \"EMERGENCY\", \"ELECTIVE\", \"URGENT\", \"EMERGENCY\", \"ELECTIVE\", \"URGENT\"]}, \"link\": {\"source\": [0, 1, 1, 1, 2, 2, 3, 3, 4], \"target\": [1, 2, 3, 4, 6, 7, 5, 7, 7], \"value\": [5328, 679, 119, 25, 1, 3, 1, 1, 1]}}], {\"title\": \"Patient Journey\", \"height\": 772, \"width\": 950, \"font\": {\"size\": 10}}, {\"showLink\": true, \"linkText\": \"Export to plot.ly\"})});</script>"
      ]
     },
     "metadata": {},
     "output_type": "display_data"
    },
    {
     "data": {
      "application/vnd.plotly.v1+json": {
       "data": [
        {
         "domain": {
          "x": [
           0,
           1
          ],
          "y": [
           0,
           1
          ]
         },
         "link": {
          "source": [
           0,
           1,
           2
          ],
          "target": [
           1,
           2,
           3
          ],
          "value": [
           1,
           1,
           1
          ]
         },
         "node": {
          "label": [
           "#Patients",
           "NEWBORN",
           "NEWBORN",
           "NEWBORN"
          ],
          "line": {
           "color": "black",
           "width": 0.5
          },
          "pad": 10,
          "thickness": 30
         },
         "orientation": "h",
         "type": "sankey",
         "valueformat": ".0f"
        }
       ],
       "layout": {
        "font": {
         "size": 10
        },
        "height": 772,
        "title": "Patient Journey",
        "width": 950
       }
      },
      "text/html": [
       "<div id=\"1a579ceb-a5c3-4456-8714-a26fd6edf0ea\" style=\"height: 772px; width: 950px;\" class=\"plotly-graph-div\"></div><script type=\"text/javascript\">require([\"plotly\"], function(Plotly) { window.PLOTLYENV=window.PLOTLYENV || {};window.PLOTLYENV.BASE_URL=\"https://plot.ly\";Plotly.newPlot(\"1a579ceb-a5c3-4456-8714-a26fd6edf0ea\", [{\"type\": \"sankey\", \"domain\": {\"x\": [0, 1], \"y\": [0, 1]}, \"orientation\": \"h\", \"valueformat\": \".0f\", \"node\": {\"pad\": 10, \"thickness\": 30, \"line\": {\"color\": \"black\", \"width\": 0.5}, \"label\": [\"#Patients\", \"NEWBORN\", \"NEWBORN\", \"NEWBORN\"]}, \"link\": {\"source\": [0, 1, 2], \"target\": [1, 2, 3], \"value\": [1, 1, 1]}}], {\"title\": \"Patient Journey\", \"height\": 772, \"width\": 950, \"font\": {\"size\": 10}}, {\"showLink\": true, \"linkText\": \"Export to plot.ly\"})});</script>"
      ],
      "text/vnd.plotly.v1+html": [
       "<div id=\"1a579ceb-a5c3-4456-8714-a26fd6edf0ea\" style=\"height: 772px; width: 950px;\" class=\"plotly-graph-div\"></div><script type=\"text/javascript\">require([\"plotly\"], function(Plotly) { window.PLOTLYENV=window.PLOTLYENV || {};window.PLOTLYENV.BASE_URL=\"https://plot.ly\";Plotly.newPlot(\"1a579ceb-a5c3-4456-8714-a26fd6edf0ea\", [{\"type\": \"sankey\", \"domain\": {\"x\": [0, 1], \"y\": [0, 1]}, \"orientation\": \"h\", \"valueformat\": \".0f\", \"node\": {\"pad\": 10, \"thickness\": 30, \"line\": {\"color\": \"black\", \"width\": 0.5}, \"label\": [\"#Patients\", \"NEWBORN\", \"NEWBORN\", \"NEWBORN\"]}, \"link\": {\"source\": [0, 1, 2], \"target\": [1, 2, 3], \"value\": [1, 1, 1]}}], {\"title\": \"Patient Journey\", \"height\": 772, \"width\": 950, \"font\": {\"size\": 10}}, {\"showLink\": true, \"linkText\": \"Export to plot.ly\"})});</script>"
      ]
     },
     "metadata": {},
     "output_type": "display_data"
    },
    {
     "data": {
      "application/vnd.plotly.v1+json": {
       "data": [
        {
         "domain": {
          "x": [
           0,
           1
          ],
          "y": [
           0,
           1
          ]
         },
         "link": {
          "source": [
           0,
           1,
           2,
           3
          ],
          "target": [
           1,
           2,
           3,
           4
          ],
          "value": [
           1,
           1,
           1,
           1
          ]
         },
         "node": {
          "label": [
           "#Patients",
           "ELECTIVE",
           "URGENT",
           "URGENT",
           "URGENT"
          ],
          "line": {
           "color": "black",
           "width": 0.5
          },
          "pad": 10,
          "thickness": 30
         },
         "orientation": "h",
         "type": "sankey",
         "valueformat": ".0f"
        }
       ],
       "layout": {
        "font": {
         "size": 10
        },
        "height": 772,
        "title": "Patient Journey",
        "width": 950
       }
      },
      "text/html": [
       "<div id=\"c77b1f2a-c00a-4ae5-a94a-2fa53855fdb0\" style=\"height: 772px; width: 950px;\" class=\"plotly-graph-div\"></div><script type=\"text/javascript\">require([\"plotly\"], function(Plotly) { window.PLOTLYENV=window.PLOTLYENV || {};window.PLOTLYENV.BASE_URL=\"https://plot.ly\";Plotly.newPlot(\"c77b1f2a-c00a-4ae5-a94a-2fa53855fdb0\", [{\"type\": \"sankey\", \"domain\": {\"x\": [0, 1], \"y\": [0, 1]}, \"orientation\": \"h\", \"valueformat\": \".0f\", \"node\": {\"pad\": 10, \"thickness\": 30, \"line\": {\"color\": \"black\", \"width\": 0.5}, \"label\": [\"#Patients\", \"ELECTIVE\", \"URGENT\", \"URGENT\", \"URGENT\"]}, \"link\": {\"source\": [0, 1, 2, 3], \"target\": [1, 2, 3, 4], \"value\": [1, 1, 1, 1]}}], {\"title\": \"Patient Journey\", \"height\": 772, \"width\": 950, \"font\": {\"size\": 10}}, {\"showLink\": true, \"linkText\": \"Export to plot.ly\"})});</script>"
      ],
      "text/vnd.plotly.v1+html": [
       "<div id=\"c77b1f2a-c00a-4ae5-a94a-2fa53855fdb0\" style=\"height: 772px; width: 950px;\" class=\"plotly-graph-div\"></div><script type=\"text/javascript\">require([\"plotly\"], function(Plotly) { window.PLOTLYENV=window.PLOTLYENV || {};window.PLOTLYENV.BASE_URL=\"https://plot.ly\";Plotly.newPlot(\"c77b1f2a-c00a-4ae5-a94a-2fa53855fdb0\", [{\"type\": \"sankey\", \"domain\": {\"x\": [0, 1], \"y\": [0, 1]}, \"orientation\": \"h\", \"valueformat\": \".0f\", \"node\": {\"pad\": 10, \"thickness\": 30, \"line\": {\"color\": \"black\", \"width\": 0.5}, \"label\": [\"#Patients\", \"ELECTIVE\", \"URGENT\", \"URGENT\", \"URGENT\"]}, \"link\": {\"source\": [0, 1, 2, 3], \"target\": [1, 2, 3, 4], \"value\": [1, 1, 1, 1]}}], {\"title\": \"Patient Journey\", \"height\": 772, \"width\": 950, \"font\": {\"size\": 10}}, {\"showLink\": true, \"linkText\": \"Export to plot.ly\"})});</script>"
      ]
     },
     "metadata": {},
     "output_type": "display_data"
    },
    {
     "data": {
      "application/vnd.plotly.v1+json": {
       "data": [
        {
         "domain": {
          "x": [
           0,
           1
          ],
          "y": [
           0,
           1
          ]
         },
         "link": {
          "source": [
           0,
           0,
           0,
           1,
           1,
           1,
           2,
           2,
           2,
           3,
           3,
           3,
           4,
           4,
           4,
           5,
           5,
           6,
           7
          ],
          "target": [
           1,
           2,
           3,
           4,
           5,
           7,
           4,
           6,
           7,
           4,
           5,
           7,
           8,
           9,
           10,
           8,
           9,
           8,
           8
          ],
          "value": [
           1141,
           2693,
           309,
           148,
           50,
           11,
           66,
           6,
           5,
           33,
           6,
           6,
           2,
           3,
           1,
           1,
           2,
           1,
           4
          ]
         },
         "node": {
          "label": [
           "#Patients",
           "ELECTIVE",
           "NEWBORN",
           "URGENT",
           "EMERGENCY",
           "ELECTIVE",
           "NEWBORN",
           "URGENT",
           "EMERGENCY",
           "ELECTIVE",
           "URGENT"
          ],
          "line": {
           "color": "black",
           "width": 0.5
          },
          "pad": 10,
          "thickness": 30
         },
         "orientation": "h",
         "type": "sankey",
         "valueformat": ".0f"
        }
       ],
       "layout": {
        "font": {
         "size": 10
        },
        "height": 772,
        "title": "Patient Journey",
        "width": 950
       }
      },
      "text/html": [
       "<div id=\"05922fde-18a6-4386-a109-35a60961889f\" style=\"height: 772px; width: 950px;\" class=\"plotly-graph-div\"></div><script type=\"text/javascript\">require([\"plotly\"], function(Plotly) { window.PLOTLYENV=window.PLOTLYENV || {};window.PLOTLYENV.BASE_URL=\"https://plot.ly\";Plotly.newPlot(\"05922fde-18a6-4386-a109-35a60961889f\", [{\"type\": \"sankey\", \"domain\": {\"x\": [0, 1], \"y\": [0, 1]}, \"orientation\": \"h\", \"valueformat\": \".0f\", \"node\": {\"pad\": 10, \"thickness\": 30, \"line\": {\"color\": \"black\", \"width\": 0.5}, \"label\": [\"#Patients\", \"ELECTIVE\", \"NEWBORN\", \"URGENT\", \"EMERGENCY\", \"ELECTIVE\", \"NEWBORN\", \"URGENT\", \"EMERGENCY\", \"ELECTIVE\", \"URGENT\"]}, \"link\": {\"source\": [0, 0, 0, 1, 1, 1, 2, 2, 2, 3, 3, 3, 4, 4, 4, 5, 5, 6, 7], \"target\": [1, 2, 3, 4, 5, 7, 4, 6, 7, 4, 5, 7, 8, 9, 10, 8, 9, 8, 8], \"value\": [1141, 2693, 309, 148, 50, 11, 66, 6, 5, 33, 6, 6, 2, 3, 1, 1, 2, 1, 4]}}], {\"title\": \"Patient Journey\", \"height\": 772, \"width\": 950, \"font\": {\"size\": 10}}, {\"showLink\": true, \"linkText\": \"Export to plot.ly\"})});</script>"
      ],
      "text/vnd.plotly.v1+html": [
       "<div id=\"05922fde-18a6-4386-a109-35a60961889f\" style=\"height: 772px; width: 950px;\" class=\"plotly-graph-div\"></div><script type=\"text/javascript\">require([\"plotly\"], function(Plotly) { window.PLOTLYENV=window.PLOTLYENV || {};window.PLOTLYENV.BASE_URL=\"https://plot.ly\";Plotly.newPlot(\"05922fde-18a6-4386-a109-35a60961889f\", [{\"type\": \"sankey\", \"domain\": {\"x\": [0, 1], \"y\": [0, 1]}, \"orientation\": \"h\", \"valueformat\": \".0f\", \"node\": {\"pad\": 10, \"thickness\": 30, \"line\": {\"color\": \"black\", \"width\": 0.5}, \"label\": [\"#Patients\", \"ELECTIVE\", \"NEWBORN\", \"URGENT\", \"EMERGENCY\", \"ELECTIVE\", \"NEWBORN\", \"URGENT\", \"EMERGENCY\", \"ELECTIVE\", \"URGENT\"]}, \"link\": {\"source\": [0, 0, 0, 1, 1, 1, 2, 2, 2, 3, 3, 3, 4, 4, 4, 5, 5, 6, 7], \"target\": [1, 2, 3, 4, 5, 7, 4, 6, 7, 4, 5, 7, 8, 9, 10, 8, 9, 8, 8], \"value\": [1141, 2693, 309, 148, 50, 11, 66, 6, 5, 33, 6, 6, 2, 3, 1, 1, 2, 1, 4]}}], {\"title\": \"Patient Journey\", \"height\": 772, \"width\": 950, \"font\": {\"size\": 10}}, {\"showLink\": true, \"linkText\": \"Export to plot.ly\"})});</script>"
      ]
     },
     "metadata": {},
     "output_type": "display_data"
    },
    {
     "data": {
      "application/vnd.plotly.v1+json": {
       "data": [
        {
         "domain": {
          "x": [
           0,
           1
          ],
          "y": [
           0,
           1
          ]
         },
         "link": {
          "source": [
           0,
           0,
           0,
           1,
           1,
           1,
           2,
           2,
           2,
           3,
           3,
           3,
           4,
           4,
           5,
           5,
           6,
           6,
           7,
           7,
           8,
           8
          ],
          "target": [
           1,
           2,
           3,
           4,
           5,
           6,
           4,
           5,
           6,
           4,
           5,
           6,
           7,
           8,
           7,
           8,
           7,
           8,
           9,
           10,
           9,
           10
          ],
          "value": [
           427,
           68,
           32,
           380,
           40,
           7,
           49,
           17,
           2,
           27,
           4,
           1,
           422,
           34,
           50,
           11,
           9,
           1,
           230,
           9,
           21,
           1
          ]
         },
         "node": {
          "label": [
           "#Patients",
           "EMERGENCY",
           "ELECTIVE",
           "URGENT",
           "EMERGENCY",
           "ELECTIVE",
           "URGENT",
           "EMERGENCY",
           "ELECTIVE",
           "EMERGENCY",
           "ELECTIVE"
          ],
          "line": {
           "color": "black",
           "width": 0.5
          },
          "pad": 10,
          "thickness": 30
         },
         "orientation": "h",
         "type": "sankey",
         "valueformat": ".0f"
        }
       ],
       "layout": {
        "font": {
         "size": 10
        },
        "height": 772,
        "title": "Patient Journey",
        "width": 950
       }
      },
      "text/html": [
       "<div id=\"94872d79-ed56-4e07-9454-8e71e24e38e5\" style=\"height: 772px; width: 950px;\" class=\"plotly-graph-div\"></div><script type=\"text/javascript\">require([\"plotly\"], function(Plotly) { window.PLOTLYENV=window.PLOTLYENV || {};window.PLOTLYENV.BASE_URL=\"https://plot.ly\";Plotly.newPlot(\"94872d79-ed56-4e07-9454-8e71e24e38e5\", [{\"type\": \"sankey\", \"domain\": {\"x\": [0, 1], \"y\": [0, 1]}, \"orientation\": \"h\", \"valueformat\": \".0f\", \"node\": {\"pad\": 10, \"thickness\": 30, \"line\": {\"color\": \"black\", \"width\": 0.5}, \"label\": [\"#Patients\", \"EMERGENCY\", \"ELECTIVE\", \"URGENT\", \"EMERGENCY\", \"ELECTIVE\", \"URGENT\", \"EMERGENCY\", \"ELECTIVE\", \"EMERGENCY\", \"ELECTIVE\"]}, \"link\": {\"source\": [0, 0, 0, 1, 1, 1, 2, 2, 2, 3, 3, 3, 4, 4, 5, 5, 6, 6, 7, 7, 8, 8], \"target\": [1, 2, 3, 4, 5, 6, 4, 5, 6, 4, 5, 6, 7, 8, 7, 8, 7, 8, 9, 10, 9, 10], \"value\": [427, 68, 32, 380, 40, 7, 49, 17, 2, 27, 4, 1, 422, 34, 50, 11, 9, 1, 230, 9, 21, 1]}}], {\"title\": \"Patient Journey\", \"height\": 772, \"width\": 950, \"font\": {\"size\": 10}}, {\"showLink\": true, \"linkText\": \"Export to plot.ly\"})});</script>"
      ],
      "text/vnd.plotly.v1+html": [
       "<div id=\"94872d79-ed56-4e07-9454-8e71e24e38e5\" style=\"height: 772px; width: 950px;\" class=\"plotly-graph-div\"></div><script type=\"text/javascript\">require([\"plotly\"], function(Plotly) { window.PLOTLYENV=window.PLOTLYENV || {};window.PLOTLYENV.BASE_URL=\"https://plot.ly\";Plotly.newPlot(\"94872d79-ed56-4e07-9454-8e71e24e38e5\", [{\"type\": \"sankey\", \"domain\": {\"x\": [0, 1], \"y\": [0, 1]}, \"orientation\": \"h\", \"valueformat\": \".0f\", \"node\": {\"pad\": 10, \"thickness\": 30, \"line\": {\"color\": \"black\", \"width\": 0.5}, \"label\": [\"#Patients\", \"EMERGENCY\", \"ELECTIVE\", \"URGENT\", \"EMERGENCY\", \"ELECTIVE\", \"URGENT\", \"EMERGENCY\", \"ELECTIVE\", \"EMERGENCY\", \"ELECTIVE\"]}, \"link\": {\"source\": [0, 0, 0, 1, 1, 1, 2, 2, 2, 3, 3, 3, 4, 4, 5, 5, 6, 6, 7, 7, 8, 8], \"target\": [1, 2, 3, 4, 5, 6, 4, 5, 6, 4, 5, 6, 7, 8, 7, 8, 7, 8, 9, 10, 9, 10], \"value\": [427, 68, 32, 380, 40, 7, 49, 17, 2, 27, 4, 1, 422, 34, 50, 11, 9, 1, 230, 9, 21, 1]}}], {\"title\": \"Patient Journey\", \"height\": 772, \"width\": 950, \"font\": {\"size\": 10}}, {\"showLink\": true, \"linkText\": \"Export to plot.ly\"})});</script>"
      ]
     },
     "metadata": {},
     "output_type": "display_data"
    }
   ],
   "source": [
    "#generating labals        \n",
    "path_range = range(0,4)\n",
    "labelsDic = {}\n",
    "for l in path_range: \n",
    "    for ind, adm in enumerate(adm_type):\n",
    "        labelsDic[l*len(adm_type)+ind+1] = adm\n",
    "\n",
    "        \n",
    "pat_clusters = pd.concat([pid,clusters.label],axis=1)\n",
    "\n",
    "for c in range(n_clusters):\n",
    "    pat_per_cluster = pat_clusters[pat_clusters.label==c].pid.tolist()\n",
    "    pat_per_cluster_str = \"','\".join(str(x) for x in pat_per_cluster)\n",
    "    pat_per_cluster_str = \"['\" + pat_per_cluster_str + \"']\"\n",
    "\n",
    "    #list of admission types\n",
    "    adm_type = ['EMERGENCY','ELECTIVE','NEWBORN','URGENT']\n",
    "    path_range = range(0,4) #path range from 1 to 4\n",
    "    p_df = pd.DataFrame(columns=['count','source','target'])\n",
    "    for l in path_range: \n",
    "        if(l == 0):\n",
    "            for indx1,adm1 in enumerate(adm_type):\n",
    "                p = \"MATCH (n:Patient)-[:Hospital*1]->(act1:Activity) WHERE act1.admit_type='\"\\\n",
    "                        + adm1 +\"' AND n.pid IN \"+ pat_per_cluster_str +\" RETURN \\\n",
    "                        count(n) as count,0 as source, \"+ str(indx1+l*4+1) +\" as target\"\n",
    "                graphData = graph.data(p) \n",
    "                #         print(p)\n",
    "                if(len(graphData)>0):\n",
    "                    p_df = pd.concat([p_df,pd.DataFrame(graphData)],axis=0)\n",
    "                else:\n",
    "                    temp_data = [{'count':0,'source':0,'target': indx1+l*4+1}]\n",
    "                    p_df = pd.concat([p_df,pd.DataFrame(temp_data)],axis=0)\n",
    "        else:\n",
    "            for indx1,adm1 in enumerate(adm_type):\n",
    "                for indx2, adm2 in enumerate(adm_type):\n",
    "                    p = \"MATCH (n:Patient)-[:Hospital*\"+str(l)+\"]->(act1:Activity)-[:Hospital]->(act2) WHERE act1.admit_type='\"\\\n",
    "                            + adm1 +\"' AND act2.admit_type='\" + adm2 +\"' AND n.pid IN \"+ pat_per_cluster_str +\" RETURN \\\n",
    "                            count(n) as count,\" + str(indx1+(l-1)*4+1) +\" as source, \"+str(indx2+l*4+1) +\" as target\"\n",
    "\n",
    "                    graphData = graph.data(p) \n",
    "                #         print(p)\n",
    "                    if(len(graphData)>0):\n",
    "                        p_df = pd.concat([p_df,pd.DataFrame(graphData)],axis=0)\n",
    "                    else:\n",
    "                        temp_data = [{'count':0,'source':indx1+(l-1)*4+1 ,'target': indx2+(l)*4+1}]\n",
    "                        p_df = pd.concat([p_df,pd.DataFrame(temp_data)],axis=0)\n",
    "    p_df = p_df.fillna(0)\n",
    "    p_df = p_df[p_df['count']>0]\n",
    "    \n",
    "    labelList = sorted(p_df.target.unique())\n",
    "    labels = ['#Patients']\n",
    "    for indx, label in enumerate(labelList):\n",
    "        labels.append(labelsDic[label])\n",
    "        p_df.loc[p_df['source'] == label, 'source'] = indx + 1\n",
    "        p_df.loc[p_df['target'] == label, 'target'] = indx + 1\n",
    "    p_df = p_df.reset_index()\n",
    "#     print(p_df)\n",
    "#     p_df.loc[range(0,len(labels)),'labels'] = labels\n",
    "     \n",
    "    #plot sankey diagram for each cluster\n",
    "    data_trace = dict(\n",
    "        type='sankey',\n",
    "        domain = dict(\n",
    "          x =  [0,1],\n",
    "          y =  [0,1]\n",
    "        ),\n",
    "        orientation = \"h\",\n",
    "        valueformat = \".0f\",\n",
    "        node = dict(\n",
    "          pad = 10,\n",
    "          thickness = 30,\n",
    "          line = dict(\n",
    "            color = \"black\",\n",
    "            width = 0.5\n",
    "          ),\n",
    "          label =  labels,\n",
    "    #       color = refugee_df['Color']\n",
    "        ),\n",
    "        link = dict(\n",
    "          source = p_df['source'].dropna(axis=0, how='any'),\n",
    "          target = p_df['target'].dropna(axis=0, how='any'),\n",
    "          value = p_df['count'].dropna(axis=0, how='any'),\n",
    "      )\n",
    "    )\n",
    "\n",
    "    layout =  dict(\n",
    "        title = \"Patient Journey\",\n",
    "        height = 772,\n",
    "        width = 950,\n",
    "        font = dict(\n",
    "          size = 10\n",
    "        ),    \n",
    "    )\n",
    "\n",
    "\n",
    "    fig = dict(data=[data_trace], layout=layout)\n",
    "    iplot(fig, validate=False)\n",
    "    p_df.drop(p_df.index, inplace=True)\n",
    "    \n",
    "#     plot(fig, filename = 'cluster_'+str(c)+'.html', output_type='file',show_link=False,\n",
    "#                                       auto_open=False,include_plotlyjs=True)"
   ]
  }
 ],
 "metadata": {
  "celltoolbar": "Raw Cell Format",
  "kernelspec": {
   "display_name": "Python 3",
   "language": "python",
   "name": "python3"
  },
  "language_info": {
   "codemirror_mode": {
    "name": "ipython",
    "version": 3
   },
   "file_extension": ".py",
   "mimetype": "text/x-python",
   "name": "python",
   "nbconvert_exporter": "python",
   "pygments_lexer": "ipython3",
   "version": "3.6.1"
  }
 },
 "nbformat": 4,
 "nbformat_minor": 2
}
